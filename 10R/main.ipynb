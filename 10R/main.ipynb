{
 "cells": [
  {
   "cell_type": "code",
   "execution_count": null,
   "metadata": {},
   "outputs": [
    {
     "name": "stdout",
     "output_type": "stream",
     "text": [
      "0th turn : \n",
      "　ＡＢＣ\n",
      "０┼┼┼\n",
      "１┼┼┼\n",
      "２┼┼┼\n",
      "Black's turn\n",
      "B1\n",
      "2.4554309844970703\n",
      "1th turn : \n",
      "　ＡＢＣ\n",
      "０┼┼┼\n",
      "１┼●┼\n",
      "２┼┼┼\n",
      "White's turn\n",
      "-0.4\n",
      "2.4753775596618652\n",
      "2th turn : \n",
      "　ＡＢＣ\n",
      "０○┼┼\n",
      "１┼●┼\n",
      "２┼┼┼\n",
      "Black's turn\n"
     ]
    }
   ],
   "source": [
    "import sys\n",
    "sys.path.insert(1,sys.path[0]+'/Tictactoe')\n",
    "\n",
    "from game import Game, GameState\n",
    "from bipredictorTictactoe import BipredictorTictactoe\n",
    "from agent import AgentHuman\n",
    "from agentMCTS import AgentMCTS\n",
    "\n",
    "import time\n",
    "\n",
    "bipredictor=BipredictorTictactoe()\n",
    "\n",
    "agentBl=AgentHuman()\n",
    "agentWh=AgentMCTS(bipredictor=bipredictor,depth=100,temperature=0.001,saveImage=False)\n",
    "game=Game(agentBl,agentWh,printBoard=True)\n",
    "\n",
    "i=0\n",
    "t=time.time()\n",
    "while not game.gameState.isEnd:\n",
    "    print(str(i)+\"th turn : \")\n",
    "    game.step()\n",
    "    i+=1\n",
    "    print(time.time()-t)\n",
    "print(\"end\")\n",
    "print(game.gameState.winner)\n",
    "game.reset()\n"
   ]
  },
  {
   "cell_type": "code",
   "execution_count": null,
   "metadata": {},
   "outputs": [],
   "source": []
  }
 ],
 "metadata": {
  "kernelspec": {
   "display_name": "Python 3",
   "language": "python",
   "name": "python3"
  },
  "language_info": {
   "codemirror_mode": {
    "name": "ipython",
    "version": 3
   },
   "file_extension": ".py",
   "mimetype": "text/x-python",
   "name": "python",
   "nbconvert_exporter": "python",
   "pygments_lexer": "ipython3",
   "version": "3.7.3"
  }
 },
 "nbformat": 4,
 "nbformat_minor": 2
}
