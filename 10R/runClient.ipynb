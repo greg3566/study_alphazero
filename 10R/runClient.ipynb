{
 "cells": [
  {
   "cell_type": "code",
   "execution_count": null,
   "metadata": {},
   "outputs": [],
   "source": [
    "from game import Game, GameState\n",
    "from agentNetwork import *\n",
    "import time\n",
    "\n",
    "agentBl=AgentHumanForNetworkBl()\n",
    "agentWh=AgentFromNetworkWh()\n",
    "game=Game(agentBl,agentWh,printBoard=True)\n",
    "\n",
    "i=0\n",
    "t=time.time()\n",
    "while not game.gameState.isEnd:\n",
    "    print(str(i)+\"th turn : \")\n",
    "    game.step()\n",
    "    i+=1\n",
    "    print(time.time()-t)\n",
    "print(\"end\")\n",
    "print(game.gameState.winner)\n",
    "\n",
    "agentBl.clientSock.close()"
   ]
  },
  {
   "cell_type": "code",
   "execution_count": null,
   "metadata": {},
   "outputs": [],
   "source": []
  }
 ],
 "metadata": {
  "kernelspec": {
   "display_name": "Python 3",
   "language": "python",
   "name": "python3"
  },
  "language_info": {
   "codemirror_mode": {
    "name": "ipython",
    "version": 3
   },
   "file_extension": ".py",
   "mimetype": "text/x-python",
   "name": "python",
   "nbconvert_exporter": "python",
   "pygments_lexer": "ipython3",
   "version": "3.7.3"
  }
 },
 "nbformat": 4,
 "nbformat_minor": 2
}
